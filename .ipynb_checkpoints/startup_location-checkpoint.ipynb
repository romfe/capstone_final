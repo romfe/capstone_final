{
 "cells": [
  {
   "cell_type": "markdown",
   "metadata": {},
   "source": [
    "# Welcome to the Notebook for my final submission"
   ]
  },
  {
   "cell_type": "markdown",
   "metadata": {},
   "source": [
    "##### You will notice that I supressed the part of the code that contains my API access data, for security reasons.  \n",
    "##### Enjoy the rest of the code! :D"
   ]
  },
  {
   "cell_type": "code",
   "execution_count": 34,
   "metadata": {},
   "outputs": [],
   "source": [
    "#importing libraries\n",
    "import pandas as pd\n",
    "import numpy as np\n",
    "import warnings\n",
    "import urllib.request\n",
    "import requests # library to handle requests\n",
    "\n",
    "from geopy.geocoders import Nominatim\n",
    "from bs4 import BeautifulSoup\n",
    "from pandas.io.json import json_normalize\n",
    "\n",
    "warnings.filterwarnings('ignore')"
   ]
  },
  {
   "cell_type": "markdown",
   "metadata": {},
   "source": [
    "##### So, for starters, let's craft our database"
   ]
  },
  {
   "cell_type": "code",
   "execution_count": 21,
   "metadata": {},
   "outputs": [],
   "source": [
    "#First, let's get a list of Florianópolis'neighborhoods! \n",
    "url = 'https://pt.wikipedia.org/wiki/Lista_de_distritos_e_bairros_de_Florian%C3%B3polis'\n",
    "req = urllib.request.urlopen(url)\n",
    "article = req.read().decode()\n",
    "\n",
    "with open('neighb.html', 'w') as code:\n",
    "    code.write(article)"
   ]
  },
  {
   "cell_type": "code",
   "execution_count": 22,
   "metadata": {},
   "outputs": [],
   "source": [
    "article = open('neighb.html').read()\n",
    "soup = BeautifulSoup(article, 'html.parser')\n",
    "#get that table\n",
    "tables = soup.find_all('table', class_='sortable')"
   ]
  },
  {
   "cell_type": "code",
   "execution_count": 5,
   "metadata": {},
   "outputs": [],
   "source": [
    "# Search through the tables for the one with the headings we want.\n",
    "# The wikipedia page has two tables: one for districts and one for neighborhood. \n",
    "# We are interested in the one that contains the neighborhoods\n",
    "for table in tables:\n",
    "    ths = table.find_all('th')\n",
    "    headings = [th.text.strip() for th in ths]\n",
    "    if headings[:5] == ['Posição', 'Bairro', 'População']:\n",
    "        break"
   ]
  },
  {
   "cell_type": "markdown",
   "metadata": {},
   "source": [
    "##### Please note that in the following section we will perform the table scraping while obtaining the geospatial data through an API !"
   ]
  },
  {
   "cell_type": "code",
   "execution_count": 15,
   "metadata": {},
   "outputs": [],
   "source": [
    "key = '54002a88657b471f8443056614be2e37'"
   ]
  },
  {
   "cell_type": "code",
   "execution_count": 18,
   "metadata": {},
   "outputs": [],
   "source": [
    "from opencage.geocoder import OpenCageGeocode\n",
    "# Extract the columns we want and write to a colon-delimited text file.\n",
    "with open('pop_city.csv', 'w') as pop:\n",
    "    print('position,', 'neighborhood,', 'population,', 'latitude,', 'longitude', file = pop)\n",
    "    for tr in table.find_all('tr'):\n",
    "        tds = tr.find_all('td')\n",
    "        if (not tds) or (len(tds)<3) :\n",
    "            continue\n",
    "        position, neighborhood, population = [td.text.strip() for td in tds[:3]]\n",
    "\n",
    "        #The following bit is about the API query:\n",
    "        geocoder = OpenCageGeocode(key)\n",
    "        query = neighborhood + ', Florianopolis, Brazil'\n",
    "        results = geocoder.geocode(query)\n",
    "\n",
    "        latitude = str(results[0]['geometry']['lat'])\n",
    "        longitude = str(results[0]['geometry']['lng']) \n",
    "        print(', '.join([position, neighborhood, population, latitude, longitude]), file=pop)"
   ]
  },
  {
   "cell_type": "markdown",
   "metadata": {},
   "source": [
    "##### Let us open the .csv file and see if it turned out ok:"
   ]
  },
  {
   "cell_type": "code",
   "execution_count": 19,
   "metadata": {},
   "outputs": [
    {
     "data": {
      "text/html": [
       "<div>\n",
       "<style scoped>\n",
       "    .dataframe tbody tr th:only-of-type {\n",
       "        vertical-align: middle;\n",
       "    }\n",
       "\n",
       "    .dataframe tbody tr th {\n",
       "        vertical-align: top;\n",
       "    }\n",
       "\n",
       "    .dataframe thead th {\n",
       "        text-align: right;\n",
       "    }\n",
       "</style>\n",
       "<table border=\"1\" class=\"dataframe\">\n",
       "  <thead>\n",
       "    <tr style=\"text-align: right;\">\n",
       "      <th></th>\n",
       "      <th>position</th>\n",
       "      <th>neighborhood</th>\n",
       "      <th>population</th>\n",
       "      <th>latitude</th>\n",
       "      <th>longitude</th>\n",
       "    </tr>\n",
       "  </thead>\n",
       "  <tbody>\n",
       "    <tr>\n",
       "      <th>0</th>\n",
       "      <td>1</td>\n",
       "      <td>Centro</td>\n",
       "      <td>44.074</td>\n",
       "      <td>-27.597203</td>\n",
       "      <td>-48.549481</td>\n",
       "    </tr>\n",
       "    <tr>\n",
       "      <th>1</th>\n",
       "      <td>2</td>\n",
       "      <td>Capoeiras</td>\n",
       "      <td>19.323</td>\n",
       "      <td>-27.597333</td>\n",
       "      <td>-48.590008</td>\n",
       "    </tr>\n",
       "    <tr>\n",
       "      <th>2</th>\n",
       "      <td>3</td>\n",
       "      <td>Trindade</td>\n",
       "      <td>15.031</td>\n",
       "      <td>-27.589383</td>\n",
       "      <td>-48.522400</td>\n",
       "    </tr>\n",
       "    <tr>\n",
       "      <th>3</th>\n",
       "      <td>4</td>\n",
       "      <td>Agronômica</td>\n",
       "      <td>14.591</td>\n",
       "      <td>-27.578145</td>\n",
       "      <td>-48.535717</td>\n",
       "    </tr>\n",
       "    <tr>\n",
       "      <th>4</th>\n",
       "      <td>5</td>\n",
       "      <td>Saco dos Limões</td>\n",
       "      <td>13.771</td>\n",
       "      <td>-27.608268</td>\n",
       "      <td>-48.534343</td>\n",
       "    </tr>\n",
       "  </tbody>\n",
       "</table>\n",
       "</div>"
      ],
      "text/plain": [
       "   position     neighborhood  population   latitude  longitude\n",
       "0         1           Centro      44.074 -27.597203 -48.549481\n",
       "1         2        Capoeiras      19.323 -27.597333 -48.590008\n",
       "2         3         Trindade      15.031 -27.589383 -48.522400\n",
       "3         4       Agronômica      14.591 -27.578145 -48.535717\n",
       "4         5  Saco dos Limões      13.771 -27.608268 -48.534343"
      ]
     },
     "execution_count": 19,
     "metadata": {},
     "output_type": "execute_result"
    }
   ],
   "source": [
    "df_pop = pd.read_csv('pop_city.csv', sep=r'\\s*,\\s*')\n",
    "df_pop.head()"
   ]
  },
  {
   "cell_type": "code",
   "execution_count": 20,
   "metadata": {},
   "outputs": [
    {
     "data": {
      "text/html": [
       "<div>\n",
       "<style scoped>\n",
       "    .dataframe tbody tr th:only-of-type {\n",
       "        vertical-align: middle;\n",
       "    }\n",
       "\n",
       "    .dataframe tbody tr th {\n",
       "        vertical-align: top;\n",
       "    }\n",
       "\n",
       "    .dataframe thead th {\n",
       "        text-align: right;\n",
       "    }\n",
       "</style>\n",
       "<table border=\"1\" class=\"dataframe\">\n",
       "  <thead>\n",
       "    <tr style=\"text-align: right;\">\n",
       "      <th></th>\n",
       "      <th>position</th>\n",
       "      <th>neighborhood</th>\n",
       "      <th>population</th>\n",
       "      <th>latitude</th>\n",
       "      <th>longitude</th>\n",
       "    </tr>\n",
       "  </thead>\n",
       "  <tbody>\n",
       "    <tr>\n",
       "      <th>80</th>\n",
       "      <td>81</td>\n",
       "      <td>Forte</td>\n",
       "      <td>266.0</td>\n",
       "      <td>-27.421111</td>\n",
       "      <td>-48.432848</td>\n",
       "    </tr>\n",
       "    <tr>\n",
       "      <th>81</th>\n",
       "      <td>82</td>\n",
       "      <td>Ingleses Norte</td>\n",
       "      <td>203.0</td>\n",
       "      <td>-27.418779</td>\n",
       "      <td>-48.408051</td>\n",
       "    </tr>\n",
       "    <tr>\n",
       "      <th>82</th>\n",
       "      <td>83</td>\n",
       "      <td>Caieira</td>\n",
       "      <td>170.0</td>\n",
       "      <td>-27.596691</td>\n",
       "      <td>-48.535275</td>\n",
       "    </tr>\n",
       "    <tr>\n",
       "      <th>83</th>\n",
       "      <td>84</td>\n",
       "      <td>Praia Brava</td>\n",
       "      <td>130.0</td>\n",
       "      <td>-27.397613</td>\n",
       "      <td>-48.415825</td>\n",
       "    </tr>\n",
       "    <tr>\n",
       "      <th>84</th>\n",
       "      <td>85</td>\n",
       "      <td>Praia Mole</td>\n",
       "      <td>108.0</td>\n",
       "      <td>-27.603017</td>\n",
       "      <td>-48.433248</td>\n",
       "    </tr>\n",
       "  </tbody>\n",
       "</table>\n",
       "</div>"
      ],
      "text/plain": [
       "    position    neighborhood  population   latitude  longitude\n",
       "80        81           Forte       266.0 -27.421111 -48.432848\n",
       "81        82  Ingleses Norte       203.0 -27.418779 -48.408051\n",
       "82        83         Caieira       170.0 -27.596691 -48.535275\n",
       "83        84     Praia Brava       130.0 -27.397613 -48.415825\n",
       "84        85      Praia Mole       108.0 -27.603017 -48.433248"
      ]
     },
     "execution_count": 20,
     "metadata": {},
     "output_type": "execute_result"
    }
   ],
   "source": [
    "df_pop.tail()"
   ]
  },
  {
   "cell_type": "markdown",
   "metadata": {},
   "source": [
    "##### Seems ok to me!"
   ]
  },
  {
   "cell_type": "markdown",
   "metadata": {},
   "source": [
    "### Now, let's get the coordinates for the universities in Florianópolis\n",
    "As it happens, the top rated universities in the city (according to the Brazilian index RUF) are:\n",
    "\n",
    "* UFSC - Federal University of Santa Catarina  \n",
    "* IFSC - Federal Institude of Santa Catarina  \n",
    "* UDESC - University of the State of Santa Cartarina  \n",
    "* UNIVALI - University of the Itajaí Valley  \n",
    "* UNISUL - University of the South of Santa Catarina  \n",
    "\n",
    "So, let's obtain their coordinates, shall we?"
   ]
  },
  {
   "cell_type": "code",
   "execution_count": null,
   "metadata": {},
   "outputs": [],
   "source": [
    "universities = pd.DataFrame(columns = ['University', 'Latitude', 'Longitude'])"
   ]
  },
  {
   "cell_type": "code",
   "execution_count": 28,
   "metadata": {},
   "outputs": [
    {
     "name": "stdout",
     "output_type": "stream",
     "text": [
      "Your credentails:\n",
      "CLIENT_ID: 00RRGR34RRRRSAZBIIEHKUQSDC0OIHWY0X3LKNSWA3CBCMDY\n",
      "CLIENT_SECRET:VQEO5QPVRG0KORW4HJKNOAMMQQZVRGBQAK145E30WKCRKOHQ\n",
      "-27.6005244 -48.514517\n"
     ]
    }
   ],
   "source": [
    "#Firing up that Foursquare API\n",
    "CLIENT_ID = '00RRGR34RRRRSAZBIIEHKUQSDC0OIHWY0X3LKNSWA3CBCMDY' # your Foursquare ID\n",
    "CLIENT_SECRET = 'VQEO5QPVRG0KORW4HJKNOAMMQQZVRGBQAK145E30WKCRKOHQ' # your Foursquare Secret\n",
    "VERSION = '20180604'\n",
    "LIMIT = 30\n",
    "print('Your credentails:')\n",
    "print('CLIENT_ID: ' + CLIENT_ID)\n",
    "print('CLIENT_SECRET:' + CLIENT_SECRET)\n",
    "\n",
    "address = 'Rua Joao Pio Duarte Silva, n 250, Florianopolis, Santa Catarina, Brazil'\n",
    "geolocator = Nominatim(user_agent=\"foursquare_agent\")\n",
    "location = geolocator.geocode(address)\n",
    "latitude = location.latitude\n",
    "longitude = location.longitude\n",
    "print(latitude, longitude)"
   ]
  },
  {
   "cell_type": "code",
   "execution_count": 32,
   "metadata": {},
   "outputs": [
    {
     "data": {
      "text/plain": [
       "{'meta': {'code': 200, 'requestId': '5ead950029ce6a001bba31bf'},\n",
       " 'response': {'venues': []}}"
      ]
     },
     "execution_count": 32,
     "metadata": {},
     "output_type": "execute_result"
    }
   ],
   "source": [
    "search_query = 'Universidade Federal de Santa Catarina'\n",
    "radius = 500\n",
    "url = 'https://api.foursquare.com/v2/venues/search?client_id={}&client_secret={}&ll={},{}&v={}&query={}&radius={}&limit={}'.format(CLIENT_ID, CLIENT_SECRET, latitude, longitude, VERSION, search_query, radius, LIMIT)\n",
    "results = requests.get(url).json()\n",
    "results"
   ]
  },
  {
   "cell_type": "code",
   "execution_count": 35,
   "metadata": {},
   "outputs": [
    {
     "data": {
      "text/html": [
       "<div>\n",
       "<style scoped>\n",
       "    .dataframe tbody tr th:only-of-type {\n",
       "        vertical-align: middle;\n",
       "    }\n",
       "\n",
       "    .dataframe tbody tr th {\n",
       "        vertical-align: top;\n",
       "    }\n",
       "\n",
       "    .dataframe thead th {\n",
       "        text-align: right;\n",
       "    }\n",
       "</style>\n",
       "<table border=\"1\" class=\"dataframe\">\n",
       "  <thead>\n",
       "    <tr style=\"text-align: right;\">\n",
       "      <th></th>\n",
       "    </tr>\n",
       "  </thead>\n",
       "  <tbody>\n",
       "  </tbody>\n",
       "</table>\n",
       "</div>"
      ],
      "text/plain": [
       "Empty DataFrame\n",
       "Columns: []\n",
       "Index: []"
      ]
     },
     "execution_count": 35,
     "metadata": {},
     "output_type": "execute_result"
    }
   ],
   "source": [
    "# assign relevant part of JSON to venues\n",
    "venues = results['response']['venues']\n",
    "\n",
    "# tranform venues into a dataframe\n",
    "dataframe = json_normalize(venues)\n",
    "dataframe.head()"
   ]
  },
  {
   "cell_type": "code",
   "execution_count": null,
   "metadata": {},
   "outputs": [],
   "source": []
  }
 ],
 "metadata": {
  "kernelspec": {
   "display_name": "Python 3",
   "language": "python",
   "name": "python3"
  },
  "language_info": {
   "codemirror_mode": {
    "name": "ipython",
    "version": 3
   },
   "file_extension": ".py",
   "mimetype": "text/x-python",
   "name": "python",
   "nbconvert_exporter": "python",
   "pygments_lexer": "ipython3",
   "version": "3.7.3"
  }
 },
 "nbformat": 4,
 "nbformat_minor": 2
}
