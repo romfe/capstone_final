{
 "cells": [
  {
   "cell_type": "markdown",
   "metadata": {},
   "source": [
    "# Welcome to the Notebook for my final submission"
   ]
  },
  {
   "cell_type": "markdown",
   "metadata": {},
   "source": [
    "##### You will notice that I supressed the part of the code that contains my Foursquare API data, for security reasons.  \n",
    "##### Enjoy the rest of the code! :D"
   ]
  },
  {
   "cell_type": "code",
   "execution_count": 2,
   "metadata": {},
   "outputs": [],
   "source": [
    "#importing libraries\n",
    "import pandas as pd\n",
    "import numpy as np\n",
    "import warnings\n",
    "import urllib.request\n",
    "\n",
    "from bs4 import BeautifulSoup\n",
    "\n",
    "warnings.filterwarnings('ignore')"
   ]
  },
  {
   "cell_type": "markdown",
   "metadata": {},
   "source": [
    "##### So, for starters, let's craft our database"
   ]
  },
  {
   "cell_type": "code",
   "execution_count": null,
   "metadata": {},
   "outputs": [],
   "source": [
    "#First, let's get a list of Florianópolis'neighborhoods! \n",
    "url = 'https://en.wikipedia.org/wiki/List_of_postal_codes_of_Canada:_M'\n",
    "req = urllib.request.urlopen(url)\n",
    "article = req.read().decode()\n",
    "\n",
    "with open('postal_codes.html', 'w') as code:\n",
    "    code.write(article)"
   ]
  },
  {
   "cell_type": "code",
   "execution_count": 11,
   "metadata": {},
   "outputs": [
    {
     "name": "stdout",
     "output_type": "stream",
     "text": [
      "-27.589383;-48.522400;br;America/Sao_Paulo\n"
     ]
    }
   ],
   "source": [
    "from opencage.geocoder import OpenCageGeocode\n",
    "\n",
    "key = '54002a88657b471f8443056614be2e37'\n",
    "geocoder = OpenCageGeocode(key)\n",
    "\n",
    "query = u'Trindade, Florianopolis, Santa Catarina, Brazil'\n",
    "\n",
    "#query = u'Bosutska ulica 10, Trnje, Zagreb, Croatia'\n",
    "results = geocoder.geocode(query)\n",
    "\n",
    "print(u'%f;%f;%s;%s' % (results[0]['geometry']['lat'], \n",
    "                        results[0]['geometry']['lng'],\n",
    "                        results[0]['components']['country_code'],\n",
    "                        results[0]['annotations']['timezone']['name']))\n",
    "# 45.797095;15.982453;hr;Europe/Belgrade"
   ]
  },
  {
   "cell_type": "code",
   "execution_count": null,
   "metadata": {},
   "outputs": [],
   "source": []
  }
 ],
 "metadata": {
  "kernelspec": {
   "display_name": "Python 3",
   "language": "python",
   "name": "python3"
  },
  "language_info": {
   "codemirror_mode": {
    "name": "ipython",
    "version": 3
   },
   "file_extension": ".py",
   "mimetype": "text/x-python",
   "name": "python",
   "nbconvert_exporter": "python",
   "pygments_lexer": "ipython3",
   "version": "3.7.3"
  }
 },
 "nbformat": 4,
 "nbformat_minor": 2
}
